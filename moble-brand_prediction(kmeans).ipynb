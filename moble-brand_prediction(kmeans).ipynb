{
 "cells": [
  {
   "cell_type": "code",
   "execution_count": 460,
   "id": "713b944a",
   "metadata": {},
   "outputs": [],
   "source": [
    "import pandas as pd \n",
    "import numpy as np"
   ]
  },
  {
   "cell_type": "code",
   "execution_count": 461,
   "id": "75809ecb",
   "metadata": {},
   "outputs": [],
   "source": [
    "df =pd.read_csv(\"phones_data.csv\")"
   ]
  },
  {
   "cell_type": "code",
   "execution_count": 462,
   "id": "88764ff0",
   "metadata": {},
   "outputs": [
    {
     "data": {
      "text/html": [
       "<div>\n",
       "<style scoped>\n",
       "    .dataframe tbody tr th:only-of-type {\n",
       "        vertical-align: middle;\n",
       "    }\n",
       "\n",
       "    .dataframe tbody tr th {\n",
       "        vertical-align: top;\n",
       "    }\n",
       "\n",
       "    .dataframe thead th {\n",
       "        text-align: right;\n",
       "    }\n",
       "</style>\n",
       "<table border=\"1\" class=\"dataframe\">\n",
       "  <thead>\n",
       "    <tr style=\"text-align: right;\">\n",
       "      <th></th>\n",
       "      <th>Unnamed: 0</th>\n",
       "      <th>brand_name</th>\n",
       "      <th>model_name</th>\n",
       "      <th>os</th>\n",
       "      <th>popularity</th>\n",
       "      <th>best_price</th>\n",
       "      <th>lowest_price</th>\n",
       "      <th>highest_price</th>\n",
       "      <th>sellers_amount</th>\n",
       "      <th>screen_size</th>\n",
       "      <th>memory_size</th>\n",
       "      <th>battery_size</th>\n",
       "      <th>release_date</th>\n",
       "    </tr>\n",
       "  </thead>\n",
       "  <tbody>\n",
       "    <tr>\n",
       "      <th>0</th>\n",
       "      <td>0</td>\n",
       "      <td>ALCATEL</td>\n",
       "      <td>1 1/8GB Bluish Black (5033D-2JALUAA)</td>\n",
       "      <td>Android</td>\n",
       "      <td>422</td>\n",
       "      <td>1690.0</td>\n",
       "      <td>1529.0</td>\n",
       "      <td>1819.0</td>\n",
       "      <td>36</td>\n",
       "      <td>5.00</td>\n",
       "      <td>8.0</td>\n",
       "      <td>2000.0</td>\n",
       "      <td>10-2020</td>\n",
       "    </tr>\n",
       "    <tr>\n",
       "      <th>1</th>\n",
       "      <td>1</td>\n",
       "      <td>ALCATEL</td>\n",
       "      <td>1 5033D 1/16GB Volcano Black (5033D-2LALUAF)</td>\n",
       "      <td>Android</td>\n",
       "      <td>323</td>\n",
       "      <td>1803.0</td>\n",
       "      <td>1659.0</td>\n",
       "      <td>2489.0</td>\n",
       "      <td>36</td>\n",
       "      <td>5.00</td>\n",
       "      <td>16.0</td>\n",
       "      <td>2000.0</td>\n",
       "      <td>9-2020</td>\n",
       "    </tr>\n",
       "    <tr>\n",
       "      <th>2</th>\n",
       "      <td>2</td>\n",
       "      <td>ALCATEL</td>\n",
       "      <td>1 5033D 1/16GB Volcano Black (5033D-2LALUAF)</td>\n",
       "      <td>Android</td>\n",
       "      <td>299</td>\n",
       "      <td>1803.0</td>\n",
       "      <td>1659.0</td>\n",
       "      <td>2489.0</td>\n",
       "      <td>36</td>\n",
       "      <td>5.00</td>\n",
       "      <td>16.0</td>\n",
       "      <td>2000.0</td>\n",
       "      <td>9-2020</td>\n",
       "    </tr>\n",
       "    <tr>\n",
       "      <th>3</th>\n",
       "      <td>3</td>\n",
       "      <td>ALCATEL</td>\n",
       "      <td>1 5033D 1/16GB Volcano Black (5033D-2LALUAF)</td>\n",
       "      <td>Android</td>\n",
       "      <td>287</td>\n",
       "      <td>1803.0</td>\n",
       "      <td>1659.0</td>\n",
       "      <td>2489.0</td>\n",
       "      <td>36</td>\n",
       "      <td>5.00</td>\n",
       "      <td>16.0</td>\n",
       "      <td>2000.0</td>\n",
       "      <td>9-2020</td>\n",
       "    </tr>\n",
       "    <tr>\n",
       "      <th>4</th>\n",
       "      <td>4</td>\n",
       "      <td>Nokia</td>\n",
       "      <td>1.3 1/16GB Charcoal</td>\n",
       "      <td>Android</td>\n",
       "      <td>1047</td>\n",
       "      <td>1999.0</td>\n",
       "      <td>NaN</td>\n",
       "      <td>NaN</td>\n",
       "      <td>10</td>\n",
       "      <td>5.71</td>\n",
       "      <td>16.0</td>\n",
       "      <td>3000.0</td>\n",
       "      <td>4-2020</td>\n",
       "    </tr>\n",
       "  </tbody>\n",
       "</table>\n",
       "</div>"
      ],
      "text/plain": [
       "   Unnamed: 0 brand_name                                    model_name  \\\n",
       "0           0    ALCATEL          1 1/8GB Bluish Black (5033D-2JALUAA)   \n",
       "1           1    ALCATEL  1 5033D 1/16GB Volcano Black (5033D-2LALUAF)   \n",
       "2           2    ALCATEL  1 5033D 1/16GB Volcano Black (5033D-2LALUAF)   \n",
       "3           3    ALCATEL  1 5033D 1/16GB Volcano Black (5033D-2LALUAF)   \n",
       "4           4      Nokia                           1.3 1/16GB Charcoal   \n",
       "\n",
       "        os  popularity  best_price  lowest_price  highest_price  \\\n",
       "0  Android         422      1690.0        1529.0         1819.0   \n",
       "1  Android         323      1803.0        1659.0         2489.0   \n",
       "2  Android         299      1803.0        1659.0         2489.0   \n",
       "3  Android         287      1803.0        1659.0         2489.0   \n",
       "4  Android        1047      1999.0           NaN            NaN   \n",
       "\n",
       "   sellers_amount  screen_size  memory_size  battery_size release_date  \n",
       "0              36         5.00          8.0        2000.0      10-2020  \n",
       "1              36         5.00         16.0        2000.0       9-2020  \n",
       "2              36         5.00         16.0        2000.0       9-2020  \n",
       "3              36         5.00         16.0        2000.0       9-2020  \n",
       "4              10         5.71         16.0        3000.0       4-2020  "
      ]
     },
     "execution_count": 462,
     "metadata": {},
     "output_type": "execute_result"
    }
   ],
   "source": [
    "df.head()"
   ]
  },
  {
   "cell_type": "code",
   "execution_count": 463,
   "id": "85526318",
   "metadata": {},
   "outputs": [
    {
     "name": "stdout",
     "output_type": "stream",
     "text": [
      "<class 'pandas.core.frame.DataFrame'>\n",
      "RangeIndex: 1224 entries, 0 to 1223\n",
      "Data columns (total 13 columns):\n",
      " #   Column          Non-Null Count  Dtype  \n",
      "---  ------          --------------  -----  \n",
      " 0   Unnamed: 0      1224 non-null   int64  \n",
      " 1   brand_name      1224 non-null   object \n",
      " 2   model_name      1224 non-null   object \n",
      " 3   os              1027 non-null   object \n",
      " 4   popularity      1224 non-null   int64  \n",
      " 5   best_price      1224 non-null   float64\n",
      " 6   lowest_price    964 non-null    float64\n",
      " 7   highest_price   964 non-null    float64\n",
      " 8   sellers_amount  1224 non-null   int64  \n",
      " 9   screen_size     1222 non-null   float64\n",
      " 10  memory_size     1112 non-null   float64\n",
      " 11  battery_size    1214 non-null   float64\n",
      " 12  release_date    1224 non-null   object \n",
      "dtypes: float64(6), int64(3), object(4)\n",
      "memory usage: 124.4+ KB\n"
     ]
    }
   ],
   "source": [
    "df.info()"
   ]
  },
  {
   "cell_type": "code",
   "execution_count": 464,
   "id": "f743144d",
   "metadata": {},
   "outputs": [
    {
     "data": {
      "text/plain": [
       "Unnamed: 0          0\n",
       "brand_name          0\n",
       "model_name          0\n",
       "os                197\n",
       "popularity          0\n",
       "best_price          0\n",
       "lowest_price      260\n",
       "highest_price     260\n",
       "sellers_amount      0\n",
       "screen_size         2\n",
       "memory_size       112\n",
       "battery_size       10\n",
       "release_date        0\n",
       "dtype: int64"
      ]
     },
     "execution_count": 464,
     "metadata": {},
     "output_type": "execute_result"
    }
   ],
   "source": [
    "df.isnull().sum()"
   ]
  },
  {
   "cell_type": "code",
   "execution_count": 465,
   "id": "145e7dee",
   "metadata": {},
   "outputs": [
    {
     "data": {
      "text/html": [
       "<div>\n",
       "<style scoped>\n",
       "    .dataframe tbody tr th:only-of-type {\n",
       "        vertical-align: middle;\n",
       "    }\n",
       "\n",
       "    .dataframe tbody tr th {\n",
       "        vertical-align: top;\n",
       "    }\n",
       "\n",
       "    .dataframe thead th {\n",
       "        text-align: right;\n",
       "    }\n",
       "</style>\n",
       "<table border=\"1\" class=\"dataframe\">\n",
       "  <thead>\n",
       "    <tr style=\"text-align: right;\">\n",
       "      <th></th>\n",
       "      <th>Unnamed: 0</th>\n",
       "      <th>brand_name</th>\n",
       "      <th>model_name</th>\n",
       "      <th>os</th>\n",
       "      <th>popularity</th>\n",
       "      <th>best_price</th>\n",
       "      <th>lowest_price</th>\n",
       "      <th>highest_price</th>\n",
       "      <th>sellers_amount</th>\n",
       "      <th>screen_size</th>\n",
       "      <th>memory_size</th>\n",
       "      <th>battery_size</th>\n",
       "      <th>release_date</th>\n",
       "    </tr>\n",
       "  </thead>\n",
       "  <tbody>\n",
       "    <tr>\n",
       "      <th>0</th>\n",
       "      <td>0</td>\n",
       "      <td>ALCATEL</td>\n",
       "      <td>1 1/8GB Bluish Black (5033D-2JALUAA)</td>\n",
       "      <td>Android</td>\n",
       "      <td>422</td>\n",
       "      <td>1690.0</td>\n",
       "      <td>1529.0</td>\n",
       "      <td>1819.0</td>\n",
       "      <td>36</td>\n",
       "      <td>5.00</td>\n",
       "      <td>8.0</td>\n",
       "      <td>2000.0</td>\n",
       "      <td>10-2020</td>\n",
       "    </tr>\n",
       "    <tr>\n",
       "      <th>1</th>\n",
       "      <td>1</td>\n",
       "      <td>ALCATEL</td>\n",
       "      <td>1 5033D 1/16GB Volcano Black (5033D-2LALUAF)</td>\n",
       "      <td>Android</td>\n",
       "      <td>323</td>\n",
       "      <td>1803.0</td>\n",
       "      <td>1659.0</td>\n",
       "      <td>2489.0</td>\n",
       "      <td>36</td>\n",
       "      <td>5.00</td>\n",
       "      <td>16.0</td>\n",
       "      <td>2000.0</td>\n",
       "      <td>9-2020</td>\n",
       "    </tr>\n",
       "    <tr>\n",
       "      <th>2</th>\n",
       "      <td>2</td>\n",
       "      <td>ALCATEL</td>\n",
       "      <td>1 5033D 1/16GB Volcano Black (5033D-2LALUAF)</td>\n",
       "      <td>Android</td>\n",
       "      <td>299</td>\n",
       "      <td>1803.0</td>\n",
       "      <td>1659.0</td>\n",
       "      <td>2489.0</td>\n",
       "      <td>36</td>\n",
       "      <td>5.00</td>\n",
       "      <td>16.0</td>\n",
       "      <td>2000.0</td>\n",
       "      <td>9-2020</td>\n",
       "    </tr>\n",
       "    <tr>\n",
       "      <th>3</th>\n",
       "      <td>3</td>\n",
       "      <td>ALCATEL</td>\n",
       "      <td>1 5033D 1/16GB Volcano Black (5033D-2LALUAF)</td>\n",
       "      <td>Android</td>\n",
       "      <td>287</td>\n",
       "      <td>1803.0</td>\n",
       "      <td>1659.0</td>\n",
       "      <td>2489.0</td>\n",
       "      <td>36</td>\n",
       "      <td>5.00</td>\n",
       "      <td>16.0</td>\n",
       "      <td>2000.0</td>\n",
       "      <td>9-2020</td>\n",
       "    </tr>\n",
       "    <tr>\n",
       "      <th>5</th>\n",
       "      <td>5</td>\n",
       "      <td>Honor</td>\n",
       "      <td>10 6/64GB Black</td>\n",
       "      <td>Android</td>\n",
       "      <td>71</td>\n",
       "      <td>10865.0</td>\n",
       "      <td>10631.0</td>\n",
       "      <td>11099.0</td>\n",
       "      <td>2</td>\n",
       "      <td>5.80</td>\n",
       "      <td>64.0</td>\n",
       "      <td>3400.0</td>\n",
       "      <td>6-2018</td>\n",
       "    </tr>\n",
       "    <tr>\n",
       "      <th>...</th>\n",
       "      <td>...</td>\n",
       "      <td>...</td>\n",
       "      <td>...</td>\n",
       "      <td>...</td>\n",
       "      <td>...</td>\n",
       "      <td>...</td>\n",
       "      <td>...</td>\n",
       "      <td>...</td>\n",
       "      <td>...</td>\n",
       "      <td>...</td>\n",
       "      <td>...</td>\n",
       "      <td>...</td>\n",
       "      <td>...</td>\n",
       "    </tr>\n",
       "    <tr>\n",
       "      <th>1218</th>\n",
       "      <td>1218</td>\n",
       "      <td>Apple</td>\n",
       "      <td>iPhone XS Max 512GB Space Gray (MT622)</td>\n",
       "      <td>iOS</td>\n",
       "      <td>842</td>\n",
       "      <td>27190.0</td>\n",
       "      <td>21150.0</td>\n",
       "      <td>30200.0</td>\n",
       "      <td>47</td>\n",
       "      <td>6.50</td>\n",
       "      <td>512.0</td>\n",
       "      <td>3174.0</td>\n",
       "      <td>9-2018</td>\n",
       "    </tr>\n",
       "    <tr>\n",
       "      <th>1219</th>\n",
       "      <td>1219</td>\n",
       "      <td>Apple</td>\n",
       "      <td>iPhone XS Max 64GB Gold (MT522)</td>\n",
       "      <td>iOS</td>\n",
       "      <td>1101</td>\n",
       "      <td>22685.0</td>\n",
       "      <td>16018.0</td>\n",
       "      <td>27900.0</td>\n",
       "      <td>61</td>\n",
       "      <td>6.50</td>\n",
       "      <td>64.0</td>\n",
       "      <td>3174.0</td>\n",
       "      <td>9-2018</td>\n",
       "    </tr>\n",
       "    <tr>\n",
       "      <th>1220</th>\n",
       "      <td>1220</td>\n",
       "      <td>Apple</td>\n",
       "      <td>iPhone XS Max Dual Sim 64GB Gold (MT732)</td>\n",
       "      <td>iOS</td>\n",
       "      <td>530</td>\n",
       "      <td>24600.0</td>\n",
       "      <td>21939.0</td>\n",
       "      <td>33720.0</td>\n",
       "      <td>28</td>\n",
       "      <td>6.50</td>\n",
       "      <td>64.0</td>\n",
       "      <td>3174.0</td>\n",
       "      <td>9-2018</td>\n",
       "    </tr>\n",
       "    <tr>\n",
       "      <th>1221</th>\n",
       "      <td>1221</td>\n",
       "      <td>HUAWEI</td>\n",
       "      <td>nova 5T 6/128GB Black (51094MEU)</td>\n",
       "      <td>Android</td>\n",
       "      <td>1174</td>\n",
       "      <td>8804.0</td>\n",
       "      <td>7999.0</td>\n",
       "      <td>9999.0</td>\n",
       "      <td>18</td>\n",
       "      <td>6.26</td>\n",
       "      <td>128.0</td>\n",
       "      <td>3750.0</td>\n",
       "      <td>11-2019</td>\n",
       "    </tr>\n",
       "    <tr>\n",
       "      <th>1222</th>\n",
       "      <td>1222</td>\n",
       "      <td>ZTE</td>\n",
       "      <td>nubia Red Magic 5G 8/128GB Black</td>\n",
       "      <td>Android</td>\n",
       "      <td>752</td>\n",
       "      <td>18755.0</td>\n",
       "      <td>18500.0</td>\n",
       "      <td>19010.0</td>\n",
       "      <td>2</td>\n",
       "      <td>6.65</td>\n",
       "      <td>128.0</td>\n",
       "      <td>4500.0</td>\n",
       "      <td>10-2020</td>\n",
       "    </tr>\n",
       "  </tbody>\n",
       "</table>\n",
       "<p>780 rows × 13 columns</p>\n",
       "</div>"
      ],
      "text/plain": [
       "      Unnamed: 0 brand_name                                    model_name  \\\n",
       "0              0    ALCATEL          1 1/8GB Bluish Black (5033D-2JALUAA)   \n",
       "1              1    ALCATEL  1 5033D 1/16GB Volcano Black (5033D-2LALUAF)   \n",
       "2              2    ALCATEL  1 5033D 1/16GB Volcano Black (5033D-2LALUAF)   \n",
       "3              3    ALCATEL  1 5033D 1/16GB Volcano Black (5033D-2LALUAF)   \n",
       "5              5      Honor                               10 6/64GB Black   \n",
       "...          ...        ...                                           ...   \n",
       "1218        1218      Apple        iPhone XS Max 512GB Space Gray (MT622)   \n",
       "1219        1219      Apple               iPhone XS Max 64GB Gold (MT522)   \n",
       "1220        1220      Apple      iPhone XS Max Dual Sim 64GB Gold (MT732)   \n",
       "1221        1221     HUAWEI              nova 5T 6/128GB Black (51094MEU)   \n",
       "1222        1222        ZTE              nubia Red Magic 5G 8/128GB Black   \n",
       "\n",
       "           os  popularity  best_price  lowest_price  highest_price  \\\n",
       "0     Android         422      1690.0        1529.0         1819.0   \n",
       "1     Android         323      1803.0        1659.0         2489.0   \n",
       "2     Android         299      1803.0        1659.0         2489.0   \n",
       "3     Android         287      1803.0        1659.0         2489.0   \n",
       "5     Android          71     10865.0       10631.0        11099.0   \n",
       "...       ...         ...         ...           ...            ...   \n",
       "1218      iOS         842     27190.0       21150.0        30200.0   \n",
       "1219      iOS        1101     22685.0       16018.0        27900.0   \n",
       "1220      iOS         530     24600.0       21939.0        33720.0   \n",
       "1221  Android        1174      8804.0        7999.0         9999.0   \n",
       "1222  Android         752     18755.0       18500.0        19010.0   \n",
       "\n",
       "      sellers_amount  screen_size  memory_size  battery_size release_date  \n",
       "0                 36         5.00          8.0        2000.0      10-2020  \n",
       "1                 36         5.00         16.0        2000.0       9-2020  \n",
       "2                 36         5.00         16.0        2000.0       9-2020  \n",
       "3                 36         5.00         16.0        2000.0       9-2020  \n",
       "5                  2         5.80         64.0        3400.0       6-2018  \n",
       "...              ...          ...          ...           ...          ...  \n",
       "1218              47         6.50        512.0        3174.0       9-2018  \n",
       "1219              61         6.50         64.0        3174.0       9-2018  \n",
       "1220              28         6.50         64.0        3174.0       9-2018  \n",
       "1221              18         6.26        128.0        3750.0      11-2019  \n",
       "1222               2         6.65        128.0        4500.0      10-2020  \n",
       "\n",
       "[780 rows x 13 columns]"
      ]
     },
     "execution_count": 465,
     "metadata": {},
     "output_type": "execute_result"
    }
   ],
   "source": [
    "df.dropna()"
   ]
  },
  {
   "cell_type": "code",
   "execution_count": 466,
   "id": "126584c4",
   "metadata": {},
   "outputs": [],
   "source": [
    "df.drop(columns  = ['os'],inplace = True)"
   ]
  },
  {
   "cell_type": "code",
   "execution_count": 467,
   "id": "34bd17c4",
   "metadata": {},
   "outputs": [
    {
     "name": "stdout",
     "output_type": "stream",
     "text": [
      "<class 'pandas.core.frame.DataFrame'>\n",
      "RangeIndex: 1224 entries, 0 to 1223\n",
      "Data columns (total 12 columns):\n",
      " #   Column          Non-Null Count  Dtype  \n",
      "---  ------          --------------  -----  \n",
      " 0   Unnamed: 0      1224 non-null   int64  \n",
      " 1   brand_name      1224 non-null   object \n",
      " 2   model_name      1224 non-null   object \n",
      " 3   popularity      1224 non-null   int64  \n",
      " 4   best_price      1224 non-null   float64\n",
      " 5   lowest_price    964 non-null    float64\n",
      " 6   highest_price   964 non-null    float64\n",
      " 7   sellers_amount  1224 non-null   int64  \n",
      " 8   screen_size     1222 non-null   float64\n",
      " 9   memory_size     1112 non-null   float64\n",
      " 10  battery_size    1214 non-null   float64\n",
      " 11  release_date    1224 non-null   object \n",
      "dtypes: float64(6), int64(3), object(3)\n",
      "memory usage: 114.9+ KB\n"
     ]
    }
   ],
   "source": [
    "df.info()"
   ]
  },
  {
   "cell_type": "code",
   "execution_count": 468,
   "id": "cdeec835",
   "metadata": {},
   "outputs": [],
   "source": [
    "df.drop(columns=['Unnamed: 0','release_date','model_name'],inplace = True)"
   ]
  },
  {
   "cell_type": "code",
   "execution_count": 469,
   "id": "c2314095",
   "metadata": {},
   "outputs": [
    {
     "data": {
      "text/html": [
       "<div>\n",
       "<style scoped>\n",
       "    .dataframe tbody tr th:only-of-type {\n",
       "        vertical-align: middle;\n",
       "    }\n",
       "\n",
       "    .dataframe tbody tr th {\n",
       "        vertical-align: top;\n",
       "    }\n",
       "\n",
       "    .dataframe thead th {\n",
       "        text-align: right;\n",
       "    }\n",
       "</style>\n",
       "<table border=\"1\" class=\"dataframe\">\n",
       "  <thead>\n",
       "    <tr style=\"text-align: right;\">\n",
       "      <th></th>\n",
       "      <th>brand_name</th>\n",
       "      <th>popularity</th>\n",
       "      <th>best_price</th>\n",
       "      <th>lowest_price</th>\n",
       "      <th>highest_price</th>\n",
       "      <th>sellers_amount</th>\n",
       "      <th>screen_size</th>\n",
       "      <th>memory_size</th>\n",
       "      <th>battery_size</th>\n",
       "    </tr>\n",
       "  </thead>\n",
       "  <tbody>\n",
       "    <tr>\n",
       "      <th>0</th>\n",
       "      <td>ALCATEL</td>\n",
       "      <td>422</td>\n",
       "      <td>1690.0</td>\n",
       "      <td>1529.0</td>\n",
       "      <td>1819.0</td>\n",
       "      <td>36</td>\n",
       "      <td>5.00</td>\n",
       "      <td>8.0</td>\n",
       "      <td>2000.0</td>\n",
       "    </tr>\n",
       "    <tr>\n",
       "      <th>1</th>\n",
       "      <td>ALCATEL</td>\n",
       "      <td>323</td>\n",
       "      <td>1803.0</td>\n",
       "      <td>1659.0</td>\n",
       "      <td>2489.0</td>\n",
       "      <td>36</td>\n",
       "      <td>5.00</td>\n",
       "      <td>16.0</td>\n",
       "      <td>2000.0</td>\n",
       "    </tr>\n",
       "    <tr>\n",
       "      <th>2</th>\n",
       "      <td>ALCATEL</td>\n",
       "      <td>299</td>\n",
       "      <td>1803.0</td>\n",
       "      <td>1659.0</td>\n",
       "      <td>2489.0</td>\n",
       "      <td>36</td>\n",
       "      <td>5.00</td>\n",
       "      <td>16.0</td>\n",
       "      <td>2000.0</td>\n",
       "    </tr>\n",
       "    <tr>\n",
       "      <th>3</th>\n",
       "      <td>ALCATEL</td>\n",
       "      <td>287</td>\n",
       "      <td>1803.0</td>\n",
       "      <td>1659.0</td>\n",
       "      <td>2489.0</td>\n",
       "      <td>36</td>\n",
       "      <td>5.00</td>\n",
       "      <td>16.0</td>\n",
       "      <td>2000.0</td>\n",
       "    </tr>\n",
       "    <tr>\n",
       "      <th>4</th>\n",
       "      <td>Nokia</td>\n",
       "      <td>1047</td>\n",
       "      <td>1999.0</td>\n",
       "      <td>NaN</td>\n",
       "      <td>NaN</td>\n",
       "      <td>10</td>\n",
       "      <td>5.71</td>\n",
       "      <td>16.0</td>\n",
       "      <td>3000.0</td>\n",
       "    </tr>\n",
       "  </tbody>\n",
       "</table>\n",
       "</div>"
      ],
      "text/plain": [
       "  brand_name  popularity  best_price  lowest_price  highest_price  \\\n",
       "0    ALCATEL         422      1690.0        1529.0         1819.0   \n",
       "1    ALCATEL         323      1803.0        1659.0         2489.0   \n",
       "2    ALCATEL         299      1803.0        1659.0         2489.0   \n",
       "3    ALCATEL         287      1803.0        1659.0         2489.0   \n",
       "4      Nokia        1047      1999.0           NaN            NaN   \n",
       "\n",
       "   sellers_amount  screen_size  memory_size  battery_size  \n",
       "0              36         5.00          8.0        2000.0  \n",
       "1              36         5.00         16.0        2000.0  \n",
       "2              36         5.00         16.0        2000.0  \n",
       "3              36         5.00         16.0        2000.0  \n",
       "4              10         5.71         16.0        3000.0  "
      ]
     },
     "execution_count": 469,
     "metadata": {},
     "output_type": "execute_result"
    }
   ],
   "source": [
    "df.head()"
   ]
  },
  {
   "cell_type": "code",
   "execution_count": 470,
   "id": "58348a56",
   "metadata": {},
   "outputs": [
    {
     "data": {
      "text/plain": [
       "0"
      ]
     },
     "execution_count": 470,
     "metadata": {},
     "output_type": "execute_result"
    }
   ],
   "source": [
    "df.duplicated().sum()"
   ]
  },
  {
   "cell_type": "code",
   "execution_count": 471,
   "id": "a8cdea4b",
   "metadata": {},
   "outputs": [],
   "source": [
    "df.dropna(inplace = True)"
   ]
  },
  {
   "cell_type": "code",
   "execution_count": 472,
   "id": "2b60d94e",
   "metadata": {},
   "outputs": [
    {
     "data": {
      "text/html": [
       "<div>\n",
       "<style scoped>\n",
       "    .dataframe tbody tr th:only-of-type {\n",
       "        vertical-align: middle;\n",
       "    }\n",
       "\n",
       "    .dataframe tbody tr th {\n",
       "        vertical-align: top;\n",
       "    }\n",
       "\n",
       "    .dataframe thead th {\n",
       "        text-align: right;\n",
       "    }\n",
       "</style>\n",
       "<table border=\"1\" class=\"dataframe\">\n",
       "  <thead>\n",
       "    <tr style=\"text-align: right;\">\n",
       "      <th></th>\n",
       "      <th>brand_name</th>\n",
       "      <th>popularity</th>\n",
       "      <th>best_price</th>\n",
       "      <th>lowest_price</th>\n",
       "      <th>highest_price</th>\n",
       "      <th>sellers_amount</th>\n",
       "      <th>screen_size</th>\n",
       "      <th>memory_size</th>\n",
       "      <th>battery_size</th>\n",
       "    </tr>\n",
       "  </thead>\n",
       "  <tbody>\n",
       "    <tr>\n",
       "      <th>0</th>\n",
       "      <td>ALCATEL</td>\n",
       "      <td>422</td>\n",
       "      <td>1690.0</td>\n",
       "      <td>1529.0</td>\n",
       "      <td>1819.0</td>\n",
       "      <td>36</td>\n",
       "      <td>5.0</td>\n",
       "      <td>8.0</td>\n",
       "      <td>2000.0</td>\n",
       "    </tr>\n",
       "    <tr>\n",
       "      <th>1</th>\n",
       "      <td>ALCATEL</td>\n",
       "      <td>323</td>\n",
       "      <td>1803.0</td>\n",
       "      <td>1659.0</td>\n",
       "      <td>2489.0</td>\n",
       "      <td>36</td>\n",
       "      <td>5.0</td>\n",
       "      <td>16.0</td>\n",
       "      <td>2000.0</td>\n",
       "    </tr>\n",
       "    <tr>\n",
       "      <th>2</th>\n",
       "      <td>ALCATEL</td>\n",
       "      <td>299</td>\n",
       "      <td>1803.0</td>\n",
       "      <td>1659.0</td>\n",
       "      <td>2489.0</td>\n",
       "      <td>36</td>\n",
       "      <td>5.0</td>\n",
       "      <td>16.0</td>\n",
       "      <td>2000.0</td>\n",
       "    </tr>\n",
       "    <tr>\n",
       "      <th>3</th>\n",
       "      <td>ALCATEL</td>\n",
       "      <td>287</td>\n",
       "      <td>1803.0</td>\n",
       "      <td>1659.0</td>\n",
       "      <td>2489.0</td>\n",
       "      <td>36</td>\n",
       "      <td>5.0</td>\n",
       "      <td>16.0</td>\n",
       "      <td>2000.0</td>\n",
       "    </tr>\n",
       "    <tr>\n",
       "      <th>5</th>\n",
       "      <td>Honor</td>\n",
       "      <td>71</td>\n",
       "      <td>10865.0</td>\n",
       "      <td>10631.0</td>\n",
       "      <td>11099.0</td>\n",
       "      <td>2</td>\n",
       "      <td>5.8</td>\n",
       "      <td>64.0</td>\n",
       "      <td>3400.0</td>\n",
       "    </tr>\n",
       "  </tbody>\n",
       "</table>\n",
       "</div>"
      ],
      "text/plain": [
       "  brand_name  popularity  best_price  lowest_price  highest_price  \\\n",
       "0    ALCATEL         422      1690.0        1529.0         1819.0   \n",
       "1    ALCATEL         323      1803.0        1659.0         2489.0   \n",
       "2    ALCATEL         299      1803.0        1659.0         2489.0   \n",
       "3    ALCATEL         287      1803.0        1659.0         2489.0   \n",
       "5      Honor          71     10865.0       10631.0        11099.0   \n",
       "\n",
       "   sellers_amount  screen_size  memory_size  battery_size  \n",
       "0              36          5.0          8.0        2000.0  \n",
       "1              36          5.0         16.0        2000.0  \n",
       "2              36          5.0         16.0        2000.0  \n",
       "3              36          5.0         16.0        2000.0  \n",
       "5               2          5.8         64.0        3400.0  "
      ]
     },
     "execution_count": 472,
     "metadata": {},
     "output_type": "execute_result"
    }
   ],
   "source": [
    "df.head()"
   ]
  },
  {
   "cell_type": "code",
   "execution_count": 473,
   "id": "131aa86c",
   "metadata": {},
   "outputs": [
    {
     "name": "stdout",
     "output_type": "stream",
     "text": [
      "<class 'pandas.core.frame.DataFrame'>\n",
      "Index: 852 entries, 0 to 1222\n",
      "Data columns (total 9 columns):\n",
      " #   Column          Non-Null Count  Dtype  \n",
      "---  ------          --------------  -----  \n",
      " 0   brand_name      852 non-null    object \n",
      " 1   popularity      852 non-null    int64  \n",
      " 2   best_price      852 non-null    float64\n",
      " 3   lowest_price    852 non-null    float64\n",
      " 4   highest_price   852 non-null    float64\n",
      " 5   sellers_amount  852 non-null    int64  \n",
      " 6   screen_size     852 non-null    float64\n",
      " 7   memory_size     852 non-null    float64\n",
      " 8   battery_size    852 non-null    float64\n",
      "dtypes: float64(6), int64(2), object(1)\n",
      "memory usage: 66.6+ KB\n"
     ]
    }
   ],
   "source": [
    "df.info()"
   ]
  },
  {
   "cell_type": "code",
   "execution_count": 474,
   "id": "3e6b25b4",
   "metadata": {},
   "outputs": [],
   "source": [
    "import matplotlib.pyplot as plt\n",
    "import seaborn as sns"
   ]
  },
  {
   "cell_type": "code",
   "execution_count": 475,
   "id": "c845873d",
   "metadata": {},
   "outputs": [
    {
     "data": {
      "text/plain": [
       "<Axes: xlabel='brand_name'>"
      ]
     },
     "execution_count": 475,
     "metadata": {},
     "output_type": "execute_result"
    },
    {
     "data": {
      "image/png": "[encoded data removed]",
      "text/plain": [
       "<Figure size 640x480 with 1 Axes>"
      ]
     },
     "metadata": {},
     "output_type": "display_data"
    }
   ],
   "source": [
    "df['brand_name'].value_counts().plot(kind ='bar')"
   ]
  },
  {
   "cell_type": "code",
   "execution_count": 476,
   "id": "15ae3d47",
   "metadata": {},
   "outputs": [],
   "source": [
    "threshold = 10\n",
    "\n",
    "# Get the frequency count of each category\n",
    "frequency = df['brand_name'].value_counts()\n",
    "\n",
    "# Identify categories with frequency less than the threshold\n",
    "shallow_values = frequency[frequency < threshold].index\n",
    "\n",
    "# Replace shallow values with 'Others'\n",
    "df['brand_name'] = df['brand_name'].apply(lambda x: 'Others' if x in shallow_values else x)\n",
    "\n",
    "# Group by the new 'Category' column\n",
    "grouped_df = df.groupby('brand_name').sum().reset_index()\n"
   ]
  },
  {
   "cell_type": "code",
   "execution_count": 477,
   "id": "c82b2ace",
   "metadata": {},
   "outputs": [
    {
     "data": {
      "text/plain": [
       "<Axes: xlabel='brand_name'>"
      ]
     },
     "execution_count": 477,
     "metadata": {},
     "output_type": "execute_result"
    },
    {
     "data": {
      "image/png": "[encoded data removed]",
      "text/plain": [
       "<Figure size 640x480 with 1 Axes>"
      ]
     },
     "metadata": {},
     "output_type": "display_data"
    }
   ],
   "source": [
    "df['brand_name'].value_counts().plot(kind ='bar')"
   ]
  },
  {
   "cell_type": "code",
   "execution_count": 478,
   "id": "da455cd9",
   "metadata": {},
   "outputs": [
    {
     "ename": "KeyError",
     "evalue": "'os'",
     "output_type": "error",
     "traceback": [
      "\u001b[1;31m---------------------------------------------------------------------------\u001b[0m",
      "\u001b[1;31mKeyError\u001b[0m                                  Traceback (most recent call last)",
      "File \u001b[1;32m~\\anaconda3\\Lib\\site-packages\\pandas\\core\\indexes\\base.py:3653\u001b[0m, in \u001b[0;36mIndex.get_loc\u001b[1;34m(self, key)\u001b[0m\n\u001b[0;32m   3652\u001b[0m \u001b[38;5;28;01mtry\u001b[39;00m:\n\u001b[1;32m-> 3653\u001b[0m     \u001b[38;5;28;01mreturn\u001b[39;00m \u001b[38;5;28mself\u001b[39m\u001b[38;5;241m.\u001b[39m_engine\u001b[38;5;241m.\u001b[39mget_loc(casted_key)\n\u001b[0;32m   3654\u001b[0m \u001b[38;5;28;01mexcept\u001b[39;00m \u001b[38;5;167;01mKeyError\u001b[39;00m \u001b[38;5;28;01mas\u001b[39;00m err:\n",
      "File \u001b[1;32m~\\anaconda3\\Lib\\site-packages\\pandas\\_libs\\index.pyx:147\u001b[0m, in \u001b[0;36mpandas._libs.index.IndexEngine.get_loc\u001b[1;34m()\u001b[0m\n",
      "File \u001b[1;32m~\\anaconda3\\Lib\\site-packages\\pandas\\_libs\\index.pyx:176\u001b[0m, in \u001b[0;36mpandas._libs.index.IndexEngine.get_loc\u001b[1;34m()\u001b[0m\n",
      "File \u001b[1;32mpandas\\_libs\\hashtable_class_helper.pxi:7080\u001b[0m, in \u001b[0;36mpandas._libs.hashtable.PyObjectHashTable.get_item\u001b[1;34m()\u001b[0m\n",
      "File \u001b[1;32mpandas\\_libs\\hashtable_class_helper.pxi:7088\u001b[0m, in \u001b[0;36mpandas._libs.hashtable.PyObjectHashTable.get_item\u001b[1;34m()\u001b[0m\n",
      "\u001b[1;31mKeyError\u001b[0m: 'os'",
      "\nThe above exception was the direct cause of the following exception:\n",
      "\u001b[1;31mKeyError\u001b[0m                                  Traceback (most recent call last)",
      "Cell \u001b[1;32mIn[478], line 1\u001b[0m\n\u001b[1;32m----> 1\u001b[0m df[\u001b[38;5;124m'\u001b[39m\u001b[38;5;124mos\u001b[39m\u001b[38;5;124m'\u001b[39m]\u001b[38;5;241m.\u001b[39mvalue_counts()\u001b[38;5;241m.\u001b[39mplot(kind \u001b[38;5;241m=\u001b[39m\u001b[38;5;124m'\u001b[39m\u001b[38;5;124mbar\u001b[39m\u001b[38;5;124m'\u001b[39m)\n",
      "File \u001b[1;32m~\\anaconda3\\Lib\\site-packages\\pandas\\core\\frame.py:3761\u001b[0m, in \u001b[0;36mDataFrame.__getitem__\u001b[1;34m(self, key)\u001b[0m\n\u001b[0;32m   3759\u001b[0m \u001b[38;5;28;01mif\u001b[39;00m \u001b[38;5;28mself\u001b[39m\u001b[38;5;241m.\u001b[39mcolumns\u001b[38;5;241m.\u001b[39mnlevels \u001b[38;5;241m>\u001b[39m \u001b[38;5;241m1\u001b[39m:\n\u001b[0;32m   3760\u001b[0m     \u001b[38;5;28;01mreturn\u001b[39;00m \u001b[38;5;28mself\u001b[39m\u001b[38;5;241m.\u001b[39m_getitem_multilevel(key)\n\u001b[1;32m-> 3761\u001b[0m indexer \u001b[38;5;241m=\u001b[39m \u001b[38;5;28mself\u001b[39m\u001b[38;5;241m.\u001b[39mcolumns\u001b[38;5;241m.\u001b[39mget_loc(key)\n\u001b[0;32m   3762\u001b[0m \u001b[38;5;28;01mif\u001b[39;00m is_integer(indexer):\n\u001b[0;32m   3763\u001b[0m     indexer \u001b[38;5;241m=\u001b[39m [indexer]\n",
      "File \u001b[1;32m~\\anaconda3\\Lib\\site-packages\\pandas\\core\\indexes\\base.py:3655\u001b[0m, in \u001b[0;36mIndex.get_loc\u001b[1;34m(self, key)\u001b[0m\n\u001b[0;32m   3653\u001b[0m     \u001b[38;5;28;01mreturn\u001b[39;00m \u001b[38;5;28mself\u001b[39m\u001b[38;5;241m.\u001b[39m_engine\u001b[38;5;241m.\u001b[39mget_loc(casted_key)\n\u001b[0;32m   3654\u001b[0m \u001b[38;5;28;01mexcept\u001b[39;00m \u001b[38;5;167;01mKeyError\u001b[39;00m \u001b[38;5;28;01mas\u001b[39;00m err:\n\u001b[1;32m-> 3655\u001b[0m     \u001b[38;5;28;01mraise\u001b[39;00m \u001b[38;5;167;01mKeyError\u001b[39;00m(key) \u001b[38;5;28;01mfrom\u001b[39;00m \u001b[38;5;21;01merr\u001b[39;00m\n\u001b[0;32m   3656\u001b[0m \u001b[38;5;28;01mexcept\u001b[39;00m \u001b[38;5;167;01mTypeError\u001b[39;00m:\n\u001b[0;32m   3657\u001b[0m     \u001b[38;5;66;03m# If we have a listlike key, _check_indexing_error will raise\u001b[39;00m\n\u001b[0;32m   3658\u001b[0m     \u001b[38;5;66;03m#  InvalidIndexError. Otherwise we fall through and re-raise\u001b[39;00m\n\u001b[0;32m   3659\u001b[0m     \u001b[38;5;66;03m#  the TypeError.\u001b[39;00m\n\u001b[0;32m   3660\u001b[0m     \u001b[38;5;28mself\u001b[39m\u001b[38;5;241m.\u001b[39m_check_indexing_error(key)\n",
      "\u001b[1;31mKeyError\u001b[0m: 'os'"
     ]
    }
   ],
   "source": [
    "df['os'].value_counts().plot(kind ='bar')"
   ]
  },
  {
   "cell_type": "code",
   "execution_count": null,
   "id": "b4ca93c7",
   "metadata": {},
   "outputs": [],
   "source": [
    "threshold = 20\n",
    "\n",
    "# Get the frequency count of each category\n",
    "frequency = df['os'].value_counts()\n",
    "\n",
    "# Identify categories with frequency less than the threshold\n",
    "shallow_values = frequency[frequency < threshold].index\n",
    "\n",
    "# Replace shallow values with 'Others'\n",
    "df['os'] = df['os'].apply(lambda x: 'Others' if x in shallow_values else x)\n",
    "\n",
    "# Group by the new 'Category' column\n",
    "grouped_df = df.groupby('os').sum().reset_index()"
   ]
  },
  {
   "cell_type": "code",
   "execution_count": null,
   "id": "a65380a4",
   "metadata": {},
   "outputs": [],
   "source": [
    "df['os'].value_counts().plot(kind ='bar')"
   ]
  },
  {
   "cell_type": "code",
   "execution_count": null,
   "id": "5c55b41c",
   "metadata": {},
   "outputs": [],
   "source": [
    "sns.kdeplot(df['popularity'])"
   ]
  },
  {
   "cell_type": "code",
   "execution_count": null,
   "id": "1db7fc74",
   "metadata": {},
   "outputs": [],
   "source": [
    "sns.boxplot(df['popularity'])"
   ]
  },
  {
   "cell_type": "code",
   "execution_count": null,
   "id": "629e0a15",
   "metadata": {},
   "outputs": [],
   "source": [
    "sns.boxplot(df['lowest_price'])  "
   ]
  },
  {
   "cell_type": "markdown",
   "id": "12b86cdf",
   "metadata": {},
   "source": [
    "## IQR method"
   ]
  },
  {
   "cell_type": "code",
   "execution_count": null,
   "id": "b717f236",
   "metadata": {},
   "outputs": [],
   "source": [
    "per_25 = df['lowest_price'].quantile(0.25)\n",
    "per_75 = df['lowest_price'].quantile(0.75)\n",
    "IQR = per_75 - per_25\n",
    "uplimit = per_75 + 1.5 * IQR\n",
    "lolimit = per_25 - 1.5 * IQR\n",
    "print(uplimit)\n",
    "print(lolimit)"
   ]
  },
  {
   "cell_type": "code",
   "execution_count": null,
   "id": "a6f5254a",
   "metadata": {},
   "outputs": [],
   "source": [
    "df1 = df.copy()\n",
    "\n",
    "# Update 'lowest_price' based on the conditions for 'uplimit' and 'lolimit'\n",
    "df1['lowest_price'] = np.where(\n",
    "    df1['lowest_price'] > uplimit, \n",
    "    uplimit, \n",
    "    np.where(\n",
    "        df1['lowest_price'] < lolimit, \n",
    "        lolimit, \n",
    "        df1['lowest_price']\n",
    "    )\n",
    ")\n",
    "\n",
    "\n"
   ]
  },
  {
   "cell_type": "code",
   "execution_count": null,
   "id": "6cf09680",
   "metadata": {},
   "outputs": [],
   "source": [
    "sns.boxplot(df1['lowest_price']) "
   ]
  },
  {
   "cell_type": "code",
   "execution_count": null,
   "id": "8d5c86aa",
   "metadata": {},
   "outputs": [],
   "source": []
  },
  {
   "cell_type": "code",
   "execution_count": 479,
   "id": "0af2ec94",
   "metadata": {},
   "outputs": [
    {
     "data": {
      "text/plain": [
       "<Axes: >"
      ]
     },
     "execution_count": 479,
     "metadata": {},
     "output_type": "execute_result"
    },
    {
     "data": {
      "image/png": "[encoded data removed]",
      "text/plain": [
       "<Figure size 640x480 with 1 Axes>"
      ]
     },
     "metadata": {},
     "output_type": "display_data"
    }
   ],
   "source": [
    "sns.boxplot(df['best_price'])"
   ]
  },
  {
   "cell_type": "code",
   "execution_count": 480,
   "id": "ab66b639",
   "metadata": {},
   "outputs": [
    {
     "name": "stdout",
     "output_type": "stream",
     "text": [
      "26156.5\n",
      "-10345.5\n"
     ]
    }
   ],
   "source": [
    "per_25 = df['best_price'].quantile(0.25)\n",
    "per_75 = df['best_price'].quantile(0.75)\n",
    "IQR = per_75 - per_25\n",
    "uplimit = per_75 + 1.5 * IQR\n",
    "lolimit = per_25 - 1.5 * IQR\n",
    "print(uplimit)\n",
    "print(lolimit)"
   ]
  },
  {
   "cell_type": "code",
   "execution_count": 481,
   "id": "813d4155",
   "metadata": {},
   "outputs": [],
   "source": [
    "\n",
    "# Create a copy of the DataFrame\n",
    "df1 = df.copy()\n",
    "\n",
    "# Update 'lowest_price' in df1 based on the conditions for 'uplimit' and 'lolimit'\n",
    "df1['best_price'] = np.where(\n",
    "    df1['best_price'] > uplimit, \n",
    "    uplimit, \n",
    "    np.where(\n",
    "        df1['best_price'] < lolimit, \n",
    "        lolimit, \n",
    "        df1['best_price']\n",
    "    )\n",
    ")"
   ]
  },
  {
   "cell_type": "code",
   "execution_count": 482,
   "id": "9ef31ddd",
   "metadata": {},
   "outputs": [
    {
     "data": {
      "text/plain": [
       "<Axes: >"
      ]
     },
     "execution_count": 482,
     "metadata": {},
     "output_type": "execute_result"
    },
    {
     "data": {
      "image/png": "[encoded data removed]",
      "text/plain": [
       "<Figure size 640x480 with 1 Axes>"
      ]
     },
     "metadata": {},
     "output_type": "display_data"
    }
   ],
   "source": [
    "sns.boxplot(df1['best_price'])"
   ]
  },
  {
   "cell_type": "code",
   "execution_count": 483,
   "id": "e7f9176d",
   "metadata": {},
   "outputs": [
    {
     "data": {
      "text/plain": [
       "<Axes: >"
      ]
     },
     "execution_count": 483,
     "metadata": {},
     "output_type": "execute_result"
    },
    {
     "data": {
      "image/png": "[encoded data removed]",
      "text/plain": [
       "<Figure size 640x480 with 1 Axes>"
      ]
     },
     "metadata": {},
     "output_type": "display_data"
    }
   ],
   "source": [
    "sns.boxplot(df['highest_price'])\n"
   ]
  },
  {
   "cell_type": "code",
   "execution_count": 484,
   "id": "1aa964ec",
   "metadata": {},
   "outputs": [
    {
     "name": "stdout",
     "output_type": "stream",
     "text": [
      "30367.875\n",
      "-12477.125\n"
     ]
    }
   ],
   "source": [
    "per_25 = df['highest_price'].quantile(0.25)\n",
    "per_75 = df['highest_price'].quantile(0.75)\n",
    "IQR = per_75 - per_25\n",
    "uplimit = per_75 + 1.5 * IQR\n",
    "lolimit = per_25 - 1.5 * IQR\n",
    "print(uplimit)\n",
    "print(lolimit)"
   ]
  },
  {
   "cell_type": "code",
   "execution_count": 485,
   "id": "8295d27f",
   "metadata": {},
   "outputs": [],
   "source": [
    "# Create a copy of the DataFrame\n",
    "df3 = df.copy()\n",
    "\n",
    "# Update 'lowest_price' in df1 based on the conditions for 'uplimit' and 'lolimit'\n",
    "df1['highest_price'] = np.where(\n",
    "    df1['highest_price'] > uplimit, \n",
    "    uplimit, \n",
    "    np.where(\n",
    "        df1['highest_price'] < lolimit, \n",
    "        lolimit, \n",
    "        df1['highest_price']\n",
    "    )\n",
    ")"
   ]
  },
  {
   "cell_type": "code",
   "execution_count": null,
   "id": "262773ed",
   "metadata": {},
   "outputs": [],
   "source": []
  },
  {
   "cell_type": "code",
   "execution_count": 486,
   "id": "1861e497",
   "metadata": {},
   "outputs": [
    {
     "data": {
      "text/plain": [
       "<Axes: >"
      ]
     },
     "execution_count": 486,
     "metadata": {},
     "output_type": "execute_result"
    },
    {
     "data": {
      "image/png": "[encoded data removed]",
      "text/plain": [
       "<Figure size 640x480 with 1 Axes>"
      ]
     },
     "metadata": {},
     "output_type": "display_data"
    }
   ],
   "source": [
    "sns.boxplot(df['sellers_amount'])"
   ]
  },
  {
   "cell_type": "code",
   "execution_count": 487,
   "id": "786cc8a8",
   "metadata": {},
   "outputs": [
    {
     "name": "stdout",
     "output_type": "stream",
     "text": [
      "66.5\n",
      "-33.5\n"
     ]
    }
   ],
   "source": [
    "per_25 = df['sellers_amount'].quantile(0.25)\n",
    "per_75 = df['sellers_amount'].quantile(0.75)\n",
    "IQR = per_75 - per_25\n",
    "uplimit = per_75 + 1.5 * IQR\n",
    "lolimit = per_25 - 1.5 * IQR\n",
    "print(uplimit)\n",
    "print(lolimit)"
   ]
  },
  {
   "cell_type": "code",
   "execution_count": 488,
   "id": "79b433a7",
   "metadata": {},
   "outputs": [],
   "source": [
    "# Create a copy of the DataFrame\n",
    "df1 = df.copy()\n",
    "\n",
    "# Update 'lowest_price' in df1 based on the conditions for 'uplimit' and 'lolimit'\n",
    "df1['highest_price'] = np.where(\n",
    "    df1['highest_price'] > uplimit, \n",
    "    uplimit, \n",
    "    np.where(\n",
    "        df1['highest_price'] < lolimit, \n",
    "        lolimit, \n",
    "        df1['highest_price']\n",
    "    )\n",
    ")"
   ]
  },
  {
   "cell_type": "code",
   "execution_count": 489,
   "id": "a24ceb45",
   "metadata": {},
   "outputs": [
    {
     "data": {
      "text/plain": [
       "<Axes: >"
      ]
     },
     "execution_count": 489,
     "metadata": {},
     "output_type": "execute_result"
    },
    {
     "data": {
      "image/png": "[encoded data removed]",
      "text/plain": [
       "<Figure size 640x480 with 1 Axes>"
      ]
     },
     "metadata": {},
     "output_type": "display_data"
    }
   ],
   "source": [
    "sns.boxplot(df['memory_size'])"
   ]
  },
  {
   "cell_type": "code",
   "execution_count": 490,
   "id": "6e899efc",
   "metadata": {},
   "outputs": [
    {
     "data": {
      "text/plain": [
       "<Axes: >"
      ]
     },
     "execution_count": 490,
     "metadata": {},
     "output_type": "execute_result"
    },
    {
     "data": {
      "image/png": "[encoded data removed]",
      "text/plain": [
       "<Figure size 640x480 with 1 Axes>"
      ]
     },
     "metadata": {},
     "output_type": "display_data"
    }
   ],
   "source": [
    "sns.boxplot(df['battery_size'])"
   ]
  },
  {
   "cell_type": "code",
   "execution_count": 491,
   "id": "caee6bec",
   "metadata": {},
   "outputs": [
    {
     "data": {
      "text/html": [
       "<div>\n",
       "<style scoped>\n",
       "    .dataframe tbody tr th:only-of-type {\n",
       "        vertical-align: middle;\n",
       "    }\n",
       "\n",
       "    .dataframe tbody tr th {\n",
       "        vertical-align: top;\n",
       "    }\n",
       "\n",
       "    .dataframe thead th {\n",
       "        text-align: right;\n",
       "    }\n",
       "</style>\n",
       "<table border=\"1\" class=\"dataframe\">\n",
       "  <thead>\n",
       "    <tr style=\"text-align: right;\">\n",
       "      <th></th>\n",
       "      <th>brand_name</th>\n",
       "      <th>popularity</th>\n",
       "      <th>best_price</th>\n",
       "      <th>lowest_price</th>\n",
       "      <th>highest_price</th>\n",
       "      <th>sellers_amount</th>\n",
       "      <th>screen_size</th>\n",
       "      <th>memory_size</th>\n",
       "      <th>battery_size</th>\n",
       "    </tr>\n",
       "  </thead>\n",
       "  <tbody>\n",
       "    <tr>\n",
       "      <th>0</th>\n",
       "      <td>Others</td>\n",
       "      <td>422</td>\n",
       "      <td>1690.0</td>\n",
       "      <td>1529.0</td>\n",
       "      <td>66.5</td>\n",
       "      <td>36</td>\n",
       "      <td>5.0</td>\n",
       "      <td>8.0</td>\n",
       "      <td>2000.0</td>\n",
       "    </tr>\n",
       "    <tr>\n",
       "      <th>1</th>\n",
       "      <td>Others</td>\n",
       "      <td>323</td>\n",
       "      <td>1803.0</td>\n",
       "      <td>1659.0</td>\n",
       "      <td>66.5</td>\n",
       "      <td>36</td>\n",
       "      <td>5.0</td>\n",
       "      <td>16.0</td>\n",
       "      <td>2000.0</td>\n",
       "    </tr>\n",
       "    <tr>\n",
       "      <th>2</th>\n",
       "      <td>Others</td>\n",
       "      <td>299</td>\n",
       "      <td>1803.0</td>\n",
       "      <td>1659.0</td>\n",
       "      <td>66.5</td>\n",
       "      <td>36</td>\n",
       "      <td>5.0</td>\n",
       "      <td>16.0</td>\n",
       "      <td>2000.0</td>\n",
       "    </tr>\n",
       "    <tr>\n",
       "      <th>3</th>\n",
       "      <td>Others</td>\n",
       "      <td>287</td>\n",
       "      <td>1803.0</td>\n",
       "      <td>1659.0</td>\n",
       "      <td>66.5</td>\n",
       "      <td>36</td>\n",
       "      <td>5.0</td>\n",
       "      <td>16.0</td>\n",
       "      <td>2000.0</td>\n",
       "    </tr>\n",
       "    <tr>\n",
       "      <th>5</th>\n",
       "      <td>Honor</td>\n",
       "      <td>71</td>\n",
       "      <td>10865.0</td>\n",
       "      <td>10631.0</td>\n",
       "      <td>66.5</td>\n",
       "      <td>2</td>\n",
       "      <td>5.8</td>\n",
       "      <td>64.0</td>\n",
       "      <td>3400.0</td>\n",
       "    </tr>\n",
       "  </tbody>\n",
       "</table>\n",
       "</div>"
      ],
      "text/plain": [
       "  brand_name  popularity  best_price  lowest_price  highest_price  \\\n",
       "0     Others         422      1690.0        1529.0           66.5   \n",
       "1     Others         323      1803.0        1659.0           66.5   \n",
       "2     Others         299      1803.0        1659.0           66.5   \n",
       "3     Others         287      1803.0        1659.0           66.5   \n",
       "5      Honor          71     10865.0       10631.0           66.5   \n",
       "\n",
       "   sellers_amount  screen_size  memory_size  battery_size  \n",
       "0              36          5.0          8.0        2000.0  \n",
       "1              36          5.0         16.0        2000.0  \n",
       "2              36          5.0         16.0        2000.0  \n",
       "3              36          5.0         16.0        2000.0  \n",
       "5               2          5.8         64.0        3400.0  "
      ]
     },
     "execution_count": 491,
     "metadata": {},
     "output_type": "execute_result"
    }
   ],
   "source": [
    "df1.head()"
   ]
  },
  {
   "cell_type": "code",
   "execution_count": 492,
   "id": "ba01c1f1",
   "metadata": {},
   "outputs": [
    {
     "name": "stdout",
     "output_type": "stream",
     "text": [
      "<class 'pandas.core.frame.DataFrame'>\n",
      "Index: 852 entries, 0 to 1222\n",
      "Data columns (total 9 columns):\n",
      " #   Column          Non-Null Count  Dtype  \n",
      "---  ------          --------------  -----  \n",
      " 0   brand_name      852 non-null    object \n",
      " 1   popularity      852 non-null    int64  \n",
      " 2   best_price      852 non-null    float64\n",
      " 3   lowest_price    852 non-null    float64\n",
      " 4   highest_price   852 non-null    float64\n",
      " 5   sellers_amount  852 non-null    int64  \n",
      " 6   screen_size     852 non-null    float64\n",
      " 7   memory_size     852 non-null    float64\n",
      " 8   battery_size    852 non-null    float64\n",
      "dtypes: float64(6), int64(2), object(1)\n",
      "memory usage: 98.9+ KB\n"
     ]
    }
   ],
   "source": [
    "df.info()"
   ]
  },
  {
   "cell_type": "code",
   "execution_count": 493,
   "id": "c8dfec49",
   "metadata": {},
   "outputs": [],
   "source": [
    "from sklearn.model_selection import train_test_split\n"
   ]
  },
  {
   "cell_type": "code",
   "execution_count": 494,
   "id": "7ad230fb",
   "metadata": {},
   "outputs": [],
   "source": [
    "X = df1.drop(columns = ['brand_name'])\n",
    "y =df1['brand_name']"
   ]
  },
  {
   "cell_type": "code",
   "execution_count": 495,
   "id": "62f5b85e",
   "metadata": {},
   "outputs": [],
   "source": [
    "X_train, X_test, y_train, y_test = train_test_split(x, y, test_size=0.3, random_state=42)\n"
   ]
  },
  {
   "cell_type": "code",
   "execution_count": 496,
   "id": "4f8fb393",
   "metadata": {},
   "outputs": [
    {
     "data": {
      "text/html": [
       "<div>\n",
       "<style scoped>\n",
       "    .dataframe tbody tr th:only-of-type {\n",
       "        vertical-align: middle;\n",
       "    }\n",
       "\n",
       "    .dataframe tbody tr th {\n",
       "        vertical-align: top;\n",
       "    }\n",
       "\n",
       "    .dataframe thead th {\n",
       "        text-align: right;\n",
       "    }\n",
       "</style>\n",
       "<table border=\"1\" class=\"dataframe\">\n",
       "  <thead>\n",
       "    <tr style=\"text-align: right;\">\n",
       "      <th></th>\n",
       "      <th>popularity</th>\n",
       "      <th>best_price</th>\n",
       "      <th>lowest_price</th>\n",
       "      <th>highest_price</th>\n",
       "      <th>sellers_amount</th>\n",
       "      <th>screen_size</th>\n",
       "      <th>memory_size</th>\n",
       "      <th>battery_size</th>\n",
       "    </tr>\n",
       "  </thead>\n",
       "  <tbody>\n",
       "    <tr>\n",
       "      <th>60</th>\n",
       "      <td>464</td>\n",
       "      <td>1153.0</td>\n",
       "      <td>975.0</td>\n",
       "      <td>66.5</td>\n",
       "      <td>20</td>\n",
       "      <td>2.40</td>\n",
       "      <td>0.016</td>\n",
       "      <td>1020.0</td>\n",
       "    </tr>\n",
       "    <tr>\n",
       "      <th>951</th>\n",
       "      <td>932</td>\n",
       "      <td>9981.0</td>\n",
       "      <td>9072.0</td>\n",
       "      <td>66.5</td>\n",
       "      <td>21</td>\n",
       "      <td>6.53</td>\n",
       "      <td>128.000</td>\n",
       "      <td>8000.0</td>\n",
       "    </tr>\n",
       "    <tr>\n",
       "      <th>288</th>\n",
       "      <td>738</td>\n",
       "      <td>3361.0</td>\n",
       "      <td>3174.0</td>\n",
       "      <td>66.5</td>\n",
       "      <td>11</td>\n",
       "      <td>6.50</td>\n",
       "      <td>32.000</td>\n",
       "      <td>5000.0</td>\n",
       "    </tr>\n",
       "    <tr>\n",
       "      <th>585</th>\n",
       "      <td>458</td>\n",
       "      <td>563.0</td>\n",
       "      <td>526.0</td>\n",
       "      <td>66.5</td>\n",
       "      <td>11</td>\n",
       "      <td>1.40</td>\n",
       "      <td>0.032</td>\n",
       "      <td>460.0</td>\n",
       "    </tr>\n",
       "    <tr>\n",
       "      <th>695</th>\n",
       "      <td>1076</td>\n",
       "      <td>4989.0</td>\n",
       "      <td>4299.0</td>\n",
       "      <td>66.5</td>\n",
       "      <td>18</td>\n",
       "      <td>6.59</td>\n",
       "      <td>64.000</td>\n",
       "      <td>4000.0</td>\n",
       "    </tr>\n",
       "    <tr>\n",
       "      <th>...</th>\n",
       "      <td>...</td>\n",
       "      <td>...</td>\n",
       "      <td>...</td>\n",
       "      <td>...</td>\n",
       "      <td>...</td>\n",
       "      <td>...</td>\n",
       "      <td>...</td>\n",
       "      <td>...</td>\n",
       "    </tr>\n",
       "    <tr>\n",
       "      <th>127</th>\n",
       "      <td>303</td>\n",
       "      <td>5844.0</td>\n",
       "      <td>5605.0</td>\n",
       "      <td>66.5</td>\n",
       "      <td>3</td>\n",
       "      <td>7.12</td>\n",
       "      <td>64.000</td>\n",
       "      <td>5000.0</td>\n",
       "    </tr>\n",
       "    <tr>\n",
       "      <th>186</th>\n",
       "      <td>377</td>\n",
       "      <td>398.0</td>\n",
       "      <td>345.0</td>\n",
       "      <td>66.5</td>\n",
       "      <td>20</td>\n",
       "      <td>2.20</td>\n",
       "      <td>0.032</td>\n",
       "      <td>1000.0</td>\n",
       "    </tr>\n",
       "    <tr>\n",
       "      <th>417</th>\n",
       "      <td>689</td>\n",
       "      <td>5893.0</td>\n",
       "      <td>5570.0</td>\n",
       "      <td>66.5</td>\n",
       "      <td>6</td>\n",
       "      <td>6.00</td>\n",
       "      <td>64.000</td>\n",
       "      <td>3300.0</td>\n",
       "    </tr>\n",
       "    <tr>\n",
       "      <th>648</th>\n",
       "      <td>322</td>\n",
       "      <td>5244.0</td>\n",
       "      <td>4999.0</td>\n",
       "      <td>66.5</td>\n",
       "      <td>2</td>\n",
       "      <td>5.50</td>\n",
       "      <td>64.000</td>\n",
       "      <td>3000.0</td>\n",
       "    </tr>\n",
       "    <tr>\n",
       "      <th>182</th>\n",
       "      <td>797</td>\n",
       "      <td>5851.0</td>\n",
       "      <td>5699.0</td>\n",
       "      <td>66.5</td>\n",
       "      <td>10</td>\n",
       "      <td>5.99</td>\n",
       "      <td>32.000</td>\n",
       "      <td>5400.0</td>\n",
       "    </tr>\n",
       "  </tbody>\n",
       "</table>\n",
       "<p>596 rows × 8 columns</p>\n",
       "</div>"
      ],
      "text/plain": [
       "     popularity  best_price  lowest_price  highest_price  sellers_amount  \\\n",
       "60          464      1153.0         975.0           66.5              20   \n",
       "951         932      9981.0        9072.0           66.5              21   \n",
       "288         738      3361.0        3174.0           66.5              11   \n",
       "585         458       563.0         526.0           66.5              11   \n",
       "695        1076      4989.0        4299.0           66.5              18   \n",
       "..          ...         ...           ...            ...             ...   \n",
       "127         303      5844.0        5605.0           66.5               3   \n",
       "186         377       398.0         345.0           66.5              20   \n",
       "417         689      5893.0        5570.0           66.5               6   \n",
       "648         322      5244.0        4999.0           66.5               2   \n",
       "182         797      5851.0        5699.0           66.5              10   \n",
       "\n",
       "     screen_size  memory_size  battery_size  \n",
       "60          2.40        0.016        1020.0  \n",
       "951         6.53      128.000        8000.0  \n",
       "288         6.50       32.000        5000.0  \n",
       "585         1.40        0.032         460.0  \n",
       "695         6.59       64.000        4000.0  \n",
       "..           ...          ...           ...  \n",
       "127         7.12       64.000        5000.0  \n",
       "186         2.20        0.032        1000.0  \n",
       "417         6.00       64.000        3300.0  \n",
       "648         5.50       64.000        3000.0  \n",
       "182         5.99       32.000        5400.0  \n",
       "\n",
       "[596 rows x 8 columns]"
      ]
     },
     "execution_count": 496,
     "metadata": {},
     "output_type": "execute_result"
    }
   ],
   "source": [
    "x_train"
   ]
  },
  {
   "cell_type": "code",
   "execution_count": 497,
   "id": "5e9c9ea8",
   "metadata": {},
   "outputs": [
    {
     "data": {
      "text/plain": [
       "60        Nokia\n",
       "951     Oukitel\n",
       "288      realme\n",
       "585      Others\n",
       "695      HUAWEI\n",
       "         ...   \n",
       "127       Honor\n",
       "186      Others\n",
       "417     Samsung\n",
       "648    Motorola\n",
       "182      Others\n",
       "Name: brand_name, Length: 596, dtype: object"
      ]
     },
     "execution_count": 497,
     "metadata": {},
     "output_type": "execute_result"
    }
   ],
   "source": [
    " y_train"
   ]
  },
  {
   "cell_type": "code",
   "execution_count": 498,
   "id": "28ee135c",
   "metadata": {},
   "outputs": [
    {
     "name": "stdout",
     "output_type": "stream",
     "text": [
      "     popularity  best_price  lowest_price  highest_price  sellers_amount  \\\n",
      "0         422.0      1690.0        1529.0         1819.0            36.0   \n",
      "1         323.0      1803.0        1659.0         2489.0            36.0   \n",
      "2         299.0      1803.0        1659.0         2489.0            36.0   \n",
      "3         287.0      1803.0        1659.0         2489.0            36.0   \n",
      "5          71.0     10865.0       10631.0        11099.0             2.0   \n",
      "..          ...         ...           ...            ...             ...   \n",
      "815         NaN         NaN           NaN            NaN             NaN   \n",
      "823         NaN         NaN           NaN            NaN             NaN   \n",
      "834         NaN         NaN           NaN            NaN             NaN   \n",
      "835         NaN         NaN           NaN            NaN             NaN   \n",
      "836         NaN         NaN           NaN            NaN             NaN   \n",
      "\n",
      "     screen_size  memory_size  battery_size  brand_name_Apple  \\\n",
      "0            5.0          8.0        2000.0               0.0   \n",
      "1            5.0         16.0        2000.0               0.0   \n",
      "2            5.0         16.0        2000.0               0.0   \n",
      "3            5.0         16.0        2000.0               0.0   \n",
      "5            5.8         64.0        3400.0               0.0   \n",
      "..           ...          ...           ...               ...   \n",
      "815          NaN          NaN           NaN               1.0   \n",
      "823          NaN          NaN           NaN               1.0   \n",
      "834          NaN          NaN           NaN               1.0   \n",
      "835          NaN          NaN           NaN               1.0   \n",
      "836          NaN          NaN           NaN               1.0   \n",
      "\n",
      "     brand_name_Blackview  ...  brand_name_Others  brand_name_Oukitel  \\\n",
      "0                     0.0  ...                1.0                 0.0   \n",
      "1                     0.0  ...                1.0                 0.0   \n",
      "2                     0.0  ...                1.0                 0.0   \n",
      "3                     0.0  ...                1.0                 0.0   \n",
      "5                     0.0  ...                0.0                 0.0   \n",
      "..                    ...  ...                ...                 ...   \n",
      "815                   0.0  ...                0.0                 0.0   \n",
      "823                   0.0  ...                0.0                 0.0   \n",
      "834                   0.0  ...                0.0                 0.0   \n",
      "835                   0.0  ...                0.0                 0.0   \n",
      "836                   0.0  ...                0.0                 0.0   \n",
      "\n",
      "     brand_name_Samsung  brand_name_Sigma mobile  brand_name_Tecno  \\\n",
      "0                   0.0                      0.0               0.0   \n",
      "1                   0.0                      0.0               0.0   \n",
      "2                   0.0                      0.0               0.0   \n",
      "3                   0.0                      0.0               0.0   \n",
      "5                   0.0                      0.0               0.0   \n",
      "..                  ...                      ...               ...   \n",
      "815                 0.0                      0.0               0.0   \n",
      "823                 0.0                      0.0               0.0   \n",
      "834                 0.0                      0.0               0.0   \n",
      "835                 0.0                      0.0               0.0   \n",
      "836                 0.0                      0.0               0.0   \n",
      "\n",
      "     brand_name_Ulefone  brand_name_Xiaomi  brand_name_ZTE  brand_name_realme  \\\n",
      "0                   0.0                0.0             0.0                0.0   \n",
      "1                   0.0                0.0             0.0                0.0   \n",
      "2                   0.0                0.0             0.0                0.0   \n",
      "3                   0.0                0.0             0.0                0.0   \n",
      "5                   0.0                0.0             0.0                0.0   \n",
      "..                  ...                ...             ...                ...   \n",
      "815                 0.0                0.0             0.0                0.0   \n",
      "823                 0.0                0.0             0.0                0.0   \n",
      "834                 0.0                0.0             0.0                0.0   \n",
      "835                 0.0                0.0             0.0                0.0   \n",
      "836                 0.0                0.0             0.0                0.0   \n",
      "\n",
      "     brand_name_vivo  \n",
      "0                0.0  \n",
      "1                0.0  \n",
      "2                0.0  \n",
      "3                0.0  \n",
      "5                0.0  \n",
      "..               ...  \n",
      "815              0.0  \n",
      "823              0.0  \n",
      "834              0.0  \n",
      "835              0.0  \n",
      "836              0.0  \n",
      "\n",
      "[1112 rows x 32 columns]\n"
     ]
    },
    {
     "name": "stderr",
     "output_type": "stream",
     "text": [
      "C:\\Users\\Harsh\\anaconda3\\Lib\\site-packages\\sklearn\\preprocessing\\_encoders.py:972: FutureWarning: `sparse` was renamed to `sparse_output` in version 1.2 and will be removed in 1.4. `sparse_output` is ignored unless you leave `sparse` to its default value.\n",
      "  warnings.warn(\n"
     ]
    }
   ],
   "source": [
    "from sklearn.preprocessing import OneHotEncoder\n",
    "# Create an instance of OneHotEncoder\n",
    "encoder = OneHotEncoder(sparse=False, drop='first')\n",
    "\n",
    "# Fit and transform the 'brand_name' and 'os' columns\n",
    "encoded_data = encoder.fit_transform(df1[['brand_name']])\n",
    "\n",
    "# Create a DataFrame from the encoded columns\n",
    "encoded_df1 = pd.DataFrame(encoded_data, columns=encoder.get_feature_names_out(['brand_name']))\n",
    "\n",
    "# Concatenate the encoded DataFrame with the original DataFrame\n",
    "df1 = pd.concat([df, encoded_df1], axis=1).drop(['brand_name'], axis=1)\n",
    "\n",
    "print(df1)"
   ]
  },
  {
   "cell_type": "code",
   "execution_count": 499,
   "id": "21c42807",
   "metadata": {},
   "outputs": [
    {
     "name": "stdout",
     "output_type": "stream",
     "text": [
      "Accuracy: 0.3125\n"
     ]
    },
    {
     "name": "stderr",
     "output_type": "stream",
     "text": [
      "C:\\Users\\Harsh\\anaconda3\\Lib\\site-packages\\sklearn\\linear_model\\_logistic.py:460: ConvergenceWarning: lbfgs failed to converge (status=1):\n",
      "STOP: TOTAL NO. of ITERATIONS REACHED LIMIT.\n",
      "\n",
      "Increase the number of iterations (max_iter) or scale the data as shown in:\n",
      "    https://scikit-learn.org/stable/modules/preprocessing.html\n",
      "Please also refer to the documentation for alternative solver options:\n",
      "    https://scikit-learn.org/stable/modules/linear_model.html#logistic-regression\n",
      "  n_iter_i = _check_optimize_result(\n"
     ]
    }
   ],
   "source": [
    "from sklearn.linear_model import LogisticRegression\n",
    "from sklearn.metrics import accuracy_score\n",
    "\n",
    "# Assuming X_train, X_test, y_train, y_test are already defined and split\n",
    "# X_train, X_test, y_train, y_test = train_test_split(X, y, test_size=0.3, random_state=42)\n",
    "\n",
    "# Initialize Logistic Regression model\n",
    "lr = LogisticRegression()\n",
    "\n",
    "# Fit the model on the training data\n",
    "lr.fit(X_train, y_train)\n",
    "\n",
    "# Predict on the testing data\n",
    "y_pred = lr.predict(X_test)\n",
    "\n",
    "# Example evaluation (accuracy score)\n",
    "accuracy = accuracy_score(y_test, y_pred)\n",
    "print(\"Accuracy:\", accuracy)"
   ]
  },
  {
   "cell_type": "code",
   "execution_count": 500,
   "id": "c41db018",
   "metadata": {},
   "outputs": [
    {
     "name": "stdout",
     "output_type": "stream",
     "text": [
      "Decision Tree Accuracy: 0.6015625\n"
     ]
    }
   ],
   "source": [
    "from sklearn.tree import DecisionTreeClassifier\n",
    "from sklearn.metrics import accuracy_score\n",
    "X_train, X_test, y_train, y_test = train_test_split(X, y, test_size=0.3, random_state=42)\n",
    "\n",
    "# Initialize Decision Tree Classifier\n",
    "dt_classifier = DecisionTreeClassifier(random_state=42)\n",
    "\n",
    "# Fit the model on the training data\n",
    "dt_classifier.fit(X_train, y_train)\n",
    "\n",
    "# Predict on the testing data\n",
    "y_pred = dt_classifier.predict(X_test)\n",
    "\n",
    "# Evaluate accuracy\n",
    "accuracy = accuracy_score(y_test, y_pred)\n",
    "print(\"Decision Tree Accuracy:\", accuracy)"
   ]
  },
  {
   "cell_type": "code",
   "execution_count": 504,
   "id": "1f458e37",
   "metadata": {},
   "outputs": [
    {
     "name": "stdout",
     "output_type": "stream",
     "text": [
      "Random Forest Accuracy: 0.640625\n"
     ]
    }
   ],
   "source": [
    "from sklearn.ensemble import RandomForestClassifier\n",
    "\n",
    "# Initialize Random Forest Classifier\n",
    "rf_classifier = RandomForestClassifier(n_estimators=100, random_state=42)\n",
    "\n",
    "# Fit the model on the training data\n",
    "rf_classifier.fit(X_train, y_train)\n",
    "\n",
    "# Predict on the testing data\n",
    "y_pred = rf_classifier.predict(X_test)\n",
    "\n",
    "# Evaluate accuracy\n",
    "accuracy = accuracy_score(y_test, y_pred)\n",
    "print(\"Random Forest Accuracy:\", accuracy)"
   ]
  },
  {
   "cell_type": "code",
   "execution_count": 503,
   "id": "4ae36f40",
   "metadata": {},
   "outputs": [
    {
     "name": "stdout",
     "output_type": "stream",
     "text": [
      "AdaBoost Classifier Accuracy: 0.2734375\n"
     ]
    }
   ],
   "source": [
    "from sklearn.ensemble import AdaBoostClassifier\n",
    "from sklearn.metrics import accuracy_score\n",
    "X_train, X_test, y_train, y_test = train_test_split(X, y, test_size=0.3, random_state=42)\n",
    "\n",
    "# Initialize AdaBoostClassifier\n",
    "adaboost_clf = AdaBoostClassifier(n_estimators=50, random_state=42)\n",
    "\n",
    "# Fit the model on the training data\n",
    "adaboost_clf.fit(X_train, y_train)\n",
    "\n",
    "# Predict on the testing data\n",
    "y_pred = adaboost_clf.predict(X_test)\n",
    "\n",
    "# Evaluate accuracy\n",
    "accuracy = accuracy_score(y_test, y_pred)\n",
    "print(\"AdaBoost Classifier Accuracy:\", accuracy)"
   ]
  },
  {
   "cell_type": "code",
   "execution_count": null,
   "id": "cb02519d",
   "metadata": {},
   "outputs": [],
   "source": []
  }
 ],
 "metadata": {
  "kernelspec": {
   "display_name": "Python 3 (ipykernel)",
   "language": "python",
   "name": "python3"
  },
  "language_info": {
   "codemirror_mode": {
    "name": "ipython",
    "version": 3
   },
   "file_extension": ".py",
   "mimetype": "text/x-python",
   "name": "python",
   "nbconvert_exporter": "python",
   "pygments_lexer": "ipython3",
   "version": "3.11.5"
  }
 },
 "nbformat": 4,
 "nbformat_minor": 5
}
